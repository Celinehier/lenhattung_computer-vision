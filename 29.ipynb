{
  "nbformat": 4,
  "nbformat_minor": 0,
  "metadata": {
    "colab": {
      "private_outputs": true,
      "provenance": []
    },
    "kernelspec": {
      "name": "python3",
      "display_name": "Python 3"
    },
    "language_info": {
      "name": "python"
    }
  },
  "cells": [
    {
      "cell_type": "code",
      "execution_count": null,
      "metadata": {
        "id": "YXvy0JcCB4P-"
      },
      "outputs": [],
      "source": [
        "# Kết nối đến Google Drive\n",
        "from google.colab import drive\n",
        "drive.mount('/content/drive')"
      ]
    },
    {
      "cell_type": "code",
      "source": [
        "import cv2\n",
        "import numpy as np\n",
        "import os\n",
        "from google.colab.patches import cv2_imshow"
      ],
      "metadata": {
        "id": "xQY0UwhzDcR2"
      },
      "execution_count": null,
      "outputs": []
    },
    {
      "cell_type": "code",
      "source": [
        "path = '/content/drive/MyDrive/test_cv'\n",
        "# Hiển thị tất cả thư mục hoặc file\n",
        "os.listdir(path)"
      ],
      "metadata": {
        "id": "oJFjUHF4DGCq"
      },
      "execution_count": null,
      "outputs": []
    },
    {
      "cell_type": "code",
      "source": [
        "# Hiển thị một ảnh\n",
        "img = cv2.imread(path + \"/face.png\")\n",
        "cv2_imshow(img)"
      ],
      "metadata": {
        "id": "kKcWxY7iDwig"
      },
      "execution_count": null,
      "outputs": []
    },
    {
      "cell_type": "code",
      "source": [],
      "metadata": {
        "id": "Tgm-_jUHET9E"
      },
      "execution_count": null,
      "outputs": []
    }
  ]
}